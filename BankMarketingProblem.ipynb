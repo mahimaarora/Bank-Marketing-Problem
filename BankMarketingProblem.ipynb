{
 "cells": [
  {
   "cell_type": "markdown",
   "metadata": {},
   "source": [
    "# Problem Statement\n",
    "The Portuguese Bank had run a telemarketing campaign in the past, making sales calls for a term-deposit product. Whether a prospect had bought the product or not is mentioned in the column named 'response'.\n",
    "\n",
    "The marketing team wants to launch another campaign, and they want to learn from the past one. You, as an analyst, decide to build a supervised model in R and achieve the following goals:\n",
    "Reduce the marketing cost by X% and acquire Y% of the prospects (compared to random calling), where X and Y are to be maximized\n",
    "\n",
    "Link for data: https://archive.ics.uci.edu/ml/datasets/Bank+Marketing"
   ]
  },
  {
   "cell_type": "code",
   "execution_count": 228,
   "metadata": {},
   "outputs": [],
   "source": [
    "import pandas as pd\n",
    "import numpy as np\n",
    "\n",
    "from sklearn.feature_extraction import DictVectorizer\n",
    "from sklearn.datasets import make_classification\n",
    "from sklearn.ensemble import RandomForestClassifier\n",
    "\n",
    "import seaborn as sns\n",
    "import matplotlib.pyplot as plt\n",
    "%matplotlib inline"
   ]
  },
  {
   "cell_type": "markdown",
   "metadata": {},
   "source": [
    "## Loading Data"
   ]
  },
  {
   "cell_type": "code",
   "execution_count": 229,
   "metadata": {},
   "outputs": [
    {
     "data": {
      "text/html": [
       "<div>\n",
       "<style scoped>\n",
       "    .dataframe tbody tr th:only-of-type {\n",
       "        vertical-align: middle;\n",
       "    }\n",
       "\n",
       "    .dataframe tbody tr th {\n",
       "        vertical-align: top;\n",
       "    }\n",
       "\n",
       "    .dataframe thead th {\n",
       "        text-align: right;\n",
       "    }\n",
       "</style>\n",
       "<table border=\"1\" class=\"dataframe\">\n",
       "  <thead>\n",
       "    <tr style=\"text-align: right;\">\n",
       "      <th></th>\n",
       "      <th>age</th>\n",
       "      <th>job</th>\n",
       "      <th>marital</th>\n",
       "      <th>education</th>\n",
       "      <th>default</th>\n",
       "      <th>housing</th>\n",
       "      <th>loan</th>\n",
       "      <th>contact</th>\n",
       "      <th>month</th>\n",
       "      <th>day_of_week</th>\n",
       "      <th>...</th>\n",
       "      <th>campaign</th>\n",
       "      <th>pdays</th>\n",
       "      <th>previous</th>\n",
       "      <th>poutcome</th>\n",
       "      <th>emp.var.rate</th>\n",
       "      <th>cons.price.idx</th>\n",
       "      <th>cons.conf.idx</th>\n",
       "      <th>euribor3m</th>\n",
       "      <th>nr.employed</th>\n",
       "      <th>y</th>\n",
       "    </tr>\n",
       "  </thead>\n",
       "  <tbody>\n",
       "    <tr>\n",
       "      <th>0</th>\n",
       "      <td>56</td>\n",
       "      <td>housemaid</td>\n",
       "      <td>married</td>\n",
       "      <td>basic.4y</td>\n",
       "      <td>no</td>\n",
       "      <td>no</td>\n",
       "      <td>no</td>\n",
       "      <td>telephone</td>\n",
       "      <td>may</td>\n",
       "      <td>mon</td>\n",
       "      <td>...</td>\n",
       "      <td>1</td>\n",
       "      <td>999</td>\n",
       "      <td>0</td>\n",
       "      <td>nonexistent</td>\n",
       "      <td>1.1</td>\n",
       "      <td>93.994</td>\n",
       "      <td>-36.4</td>\n",
       "      <td>4.857</td>\n",
       "      <td>5191.0</td>\n",
       "      <td>no</td>\n",
       "    </tr>\n",
       "    <tr>\n",
       "      <th>1</th>\n",
       "      <td>57</td>\n",
       "      <td>services</td>\n",
       "      <td>married</td>\n",
       "      <td>high.school</td>\n",
       "      <td>unknown</td>\n",
       "      <td>no</td>\n",
       "      <td>no</td>\n",
       "      <td>telephone</td>\n",
       "      <td>may</td>\n",
       "      <td>mon</td>\n",
       "      <td>...</td>\n",
       "      <td>1</td>\n",
       "      <td>999</td>\n",
       "      <td>0</td>\n",
       "      <td>nonexistent</td>\n",
       "      <td>1.1</td>\n",
       "      <td>93.994</td>\n",
       "      <td>-36.4</td>\n",
       "      <td>4.857</td>\n",
       "      <td>5191.0</td>\n",
       "      <td>no</td>\n",
       "    </tr>\n",
       "    <tr>\n",
       "      <th>2</th>\n",
       "      <td>37</td>\n",
       "      <td>services</td>\n",
       "      <td>married</td>\n",
       "      <td>high.school</td>\n",
       "      <td>no</td>\n",
       "      <td>yes</td>\n",
       "      <td>no</td>\n",
       "      <td>telephone</td>\n",
       "      <td>may</td>\n",
       "      <td>mon</td>\n",
       "      <td>...</td>\n",
       "      <td>1</td>\n",
       "      <td>999</td>\n",
       "      <td>0</td>\n",
       "      <td>nonexistent</td>\n",
       "      <td>1.1</td>\n",
       "      <td>93.994</td>\n",
       "      <td>-36.4</td>\n",
       "      <td>4.857</td>\n",
       "      <td>5191.0</td>\n",
       "      <td>no</td>\n",
       "    </tr>\n",
       "    <tr>\n",
       "      <th>3</th>\n",
       "      <td>40</td>\n",
       "      <td>admin.</td>\n",
       "      <td>married</td>\n",
       "      <td>basic.6y</td>\n",
       "      <td>no</td>\n",
       "      <td>no</td>\n",
       "      <td>no</td>\n",
       "      <td>telephone</td>\n",
       "      <td>may</td>\n",
       "      <td>mon</td>\n",
       "      <td>...</td>\n",
       "      <td>1</td>\n",
       "      <td>999</td>\n",
       "      <td>0</td>\n",
       "      <td>nonexistent</td>\n",
       "      <td>1.1</td>\n",
       "      <td>93.994</td>\n",
       "      <td>-36.4</td>\n",
       "      <td>4.857</td>\n",
       "      <td>5191.0</td>\n",
       "      <td>no</td>\n",
       "    </tr>\n",
       "    <tr>\n",
       "      <th>4</th>\n",
       "      <td>56</td>\n",
       "      <td>services</td>\n",
       "      <td>married</td>\n",
       "      <td>high.school</td>\n",
       "      <td>no</td>\n",
       "      <td>no</td>\n",
       "      <td>yes</td>\n",
       "      <td>telephone</td>\n",
       "      <td>may</td>\n",
       "      <td>mon</td>\n",
       "      <td>...</td>\n",
       "      <td>1</td>\n",
       "      <td>999</td>\n",
       "      <td>0</td>\n",
       "      <td>nonexistent</td>\n",
       "      <td>1.1</td>\n",
       "      <td>93.994</td>\n",
       "      <td>-36.4</td>\n",
       "      <td>4.857</td>\n",
       "      <td>5191.0</td>\n",
       "      <td>no</td>\n",
       "    </tr>\n",
       "  </tbody>\n",
       "</table>\n",
       "<p>5 rows × 21 columns</p>\n",
       "</div>"
      ],
      "text/plain": [
       "   age        job  marital    education  default housing loan    contact  \\\n",
       "0   56  housemaid  married     basic.4y       no      no   no  telephone   \n",
       "1   57   services  married  high.school  unknown      no   no  telephone   \n",
       "2   37   services  married  high.school       no     yes   no  telephone   \n",
       "3   40     admin.  married     basic.6y       no      no   no  telephone   \n",
       "4   56   services  married  high.school       no      no  yes  telephone   \n",
       "\n",
       "  month day_of_week ...  campaign  pdays  previous     poutcome emp.var.rate  \\\n",
       "0   may         mon ...         1    999         0  nonexistent          1.1   \n",
       "1   may         mon ...         1    999         0  nonexistent          1.1   \n",
       "2   may         mon ...         1    999         0  nonexistent          1.1   \n",
       "3   may         mon ...         1    999         0  nonexistent          1.1   \n",
       "4   may         mon ...         1    999         0  nonexistent          1.1   \n",
       "\n",
       "   cons.price.idx  cons.conf.idx  euribor3m  nr.employed   y  \n",
       "0          93.994          -36.4      4.857       5191.0  no  \n",
       "1          93.994          -36.4      4.857       5191.0  no  \n",
       "2          93.994          -36.4      4.857       5191.0  no  \n",
       "3          93.994          -36.4      4.857       5191.0  no  \n",
       "4          93.994          -36.4      4.857       5191.0  no  \n",
       "\n",
       "[5 rows x 21 columns]"
      ]
     },
     "execution_count": 229,
     "metadata": {},
     "output_type": "execute_result"
    }
   ],
   "source": [
    "data = pd.read_csv('bank-additional-full.csv',delimiter=';')\n",
    "data.head()"
   ]
  },
  {
   "cell_type": "code",
   "execution_count": 230,
   "metadata": {},
   "outputs": [
    {
     "data": {
      "text/plain": [
       "age               0\n",
       "job               0\n",
       "marital           0\n",
       "education         0\n",
       "default           0\n",
       "housing           0\n",
       "loan              0\n",
       "contact           0\n",
       "month             0\n",
       "day_of_week       0\n",
       "duration          0\n",
       "campaign          0\n",
       "pdays             0\n",
       "previous          0\n",
       "poutcome          0\n",
       "emp.var.rate      0\n",
       "cons.price.idx    0\n",
       "cons.conf.idx     0\n",
       "euribor3m         0\n",
       "nr.employed       0\n",
       "y                 0\n",
       "dtype: int64"
      ]
     },
     "execution_count": 230,
     "metadata": {},
     "output_type": "execute_result"
    }
   ],
   "source": [
    "data.isnull().sum()"
   ]
  },
  {
   "cell_type": "code",
   "execution_count": 231,
   "metadata": {},
   "outputs": [
    {
     "data": {
      "text/html": [
       "<div>\n",
       "<style scoped>\n",
       "    .dataframe tbody tr th:only-of-type {\n",
       "        vertical-align: middle;\n",
       "    }\n",
       "\n",
       "    .dataframe tbody tr th {\n",
       "        vertical-align: top;\n",
       "    }\n",
       "\n",
       "    .dataframe thead th {\n",
       "        text-align: right;\n",
       "    }\n",
       "</style>\n",
       "<table border=\"1\" class=\"dataframe\">\n",
       "  <thead>\n",
       "    <tr style=\"text-align: right;\">\n",
       "      <th></th>\n",
       "      <th>age</th>\n",
       "      <th>duration</th>\n",
       "      <th>campaign</th>\n",
       "      <th>pdays</th>\n",
       "      <th>previous</th>\n",
       "      <th>emp.var.rate</th>\n",
       "      <th>cons.price.idx</th>\n",
       "      <th>cons.conf.idx</th>\n",
       "      <th>euribor3m</th>\n",
       "      <th>nr.employed</th>\n",
       "    </tr>\n",
       "  </thead>\n",
       "  <tbody>\n",
       "    <tr>\n",
       "      <th>age</th>\n",
       "      <td>1.000000</td>\n",
       "      <td>-0.000866</td>\n",
       "      <td>0.004594</td>\n",
       "      <td>-0.034369</td>\n",
       "      <td>0.024365</td>\n",
       "      <td>-0.000371</td>\n",
       "      <td>0.000857</td>\n",
       "      <td>0.129372</td>\n",
       "      <td>0.010767</td>\n",
       "      <td>-0.017725</td>\n",
       "    </tr>\n",
       "    <tr>\n",
       "      <th>duration</th>\n",
       "      <td>-0.000866</td>\n",
       "      <td>1.000000</td>\n",
       "      <td>-0.071699</td>\n",
       "      <td>-0.047577</td>\n",
       "      <td>0.020640</td>\n",
       "      <td>-0.027968</td>\n",
       "      <td>0.005312</td>\n",
       "      <td>-0.008173</td>\n",
       "      <td>-0.032897</td>\n",
       "      <td>-0.044703</td>\n",
       "    </tr>\n",
       "    <tr>\n",
       "      <th>campaign</th>\n",
       "      <td>0.004594</td>\n",
       "      <td>-0.071699</td>\n",
       "      <td>1.000000</td>\n",
       "      <td>0.052584</td>\n",
       "      <td>-0.079141</td>\n",
       "      <td>0.150754</td>\n",
       "      <td>0.127836</td>\n",
       "      <td>-0.013733</td>\n",
       "      <td>0.135133</td>\n",
       "      <td>0.144095</td>\n",
       "    </tr>\n",
       "    <tr>\n",
       "      <th>pdays</th>\n",
       "      <td>-0.034369</td>\n",
       "      <td>-0.047577</td>\n",
       "      <td>0.052584</td>\n",
       "      <td>1.000000</td>\n",
       "      <td>-0.587514</td>\n",
       "      <td>0.271004</td>\n",
       "      <td>0.078889</td>\n",
       "      <td>-0.091342</td>\n",
       "      <td>0.296899</td>\n",
       "      <td>0.372605</td>\n",
       "    </tr>\n",
       "    <tr>\n",
       "      <th>previous</th>\n",
       "      <td>0.024365</td>\n",
       "      <td>0.020640</td>\n",
       "      <td>-0.079141</td>\n",
       "      <td>-0.587514</td>\n",
       "      <td>1.000000</td>\n",
       "      <td>-0.420489</td>\n",
       "      <td>-0.203130</td>\n",
       "      <td>-0.050936</td>\n",
       "      <td>-0.454494</td>\n",
       "      <td>-0.501333</td>\n",
       "    </tr>\n",
       "    <tr>\n",
       "      <th>emp.var.rate</th>\n",
       "      <td>-0.000371</td>\n",
       "      <td>-0.027968</td>\n",
       "      <td>0.150754</td>\n",
       "      <td>0.271004</td>\n",
       "      <td>-0.420489</td>\n",
       "      <td>1.000000</td>\n",
       "      <td>0.775334</td>\n",
       "      <td>0.196041</td>\n",
       "      <td>0.972245</td>\n",
       "      <td>0.906970</td>\n",
       "    </tr>\n",
       "    <tr>\n",
       "      <th>cons.price.idx</th>\n",
       "      <td>0.000857</td>\n",
       "      <td>0.005312</td>\n",
       "      <td>0.127836</td>\n",
       "      <td>0.078889</td>\n",
       "      <td>-0.203130</td>\n",
       "      <td>0.775334</td>\n",
       "      <td>1.000000</td>\n",
       "      <td>0.058986</td>\n",
       "      <td>0.688230</td>\n",
       "      <td>0.522034</td>\n",
       "    </tr>\n",
       "    <tr>\n",
       "      <th>cons.conf.idx</th>\n",
       "      <td>0.129372</td>\n",
       "      <td>-0.008173</td>\n",
       "      <td>-0.013733</td>\n",
       "      <td>-0.091342</td>\n",
       "      <td>-0.050936</td>\n",
       "      <td>0.196041</td>\n",
       "      <td>0.058986</td>\n",
       "      <td>1.000000</td>\n",
       "      <td>0.277686</td>\n",
       "      <td>0.100513</td>\n",
       "    </tr>\n",
       "    <tr>\n",
       "      <th>euribor3m</th>\n",
       "      <td>0.010767</td>\n",
       "      <td>-0.032897</td>\n",
       "      <td>0.135133</td>\n",
       "      <td>0.296899</td>\n",
       "      <td>-0.454494</td>\n",
       "      <td>0.972245</td>\n",
       "      <td>0.688230</td>\n",
       "      <td>0.277686</td>\n",
       "      <td>1.000000</td>\n",
       "      <td>0.945154</td>\n",
       "    </tr>\n",
       "    <tr>\n",
       "      <th>nr.employed</th>\n",
       "      <td>-0.017725</td>\n",
       "      <td>-0.044703</td>\n",
       "      <td>0.144095</td>\n",
       "      <td>0.372605</td>\n",
       "      <td>-0.501333</td>\n",
       "      <td>0.906970</td>\n",
       "      <td>0.522034</td>\n",
       "      <td>0.100513</td>\n",
       "      <td>0.945154</td>\n",
       "      <td>1.000000</td>\n",
       "    </tr>\n",
       "  </tbody>\n",
       "</table>\n",
       "</div>"
      ],
      "text/plain": [
       "                     age  duration  campaign     pdays  previous  \\\n",
       "age             1.000000 -0.000866  0.004594 -0.034369  0.024365   \n",
       "duration       -0.000866  1.000000 -0.071699 -0.047577  0.020640   \n",
       "campaign        0.004594 -0.071699  1.000000  0.052584 -0.079141   \n",
       "pdays          -0.034369 -0.047577  0.052584  1.000000 -0.587514   \n",
       "previous        0.024365  0.020640 -0.079141 -0.587514  1.000000   \n",
       "emp.var.rate   -0.000371 -0.027968  0.150754  0.271004 -0.420489   \n",
       "cons.price.idx  0.000857  0.005312  0.127836  0.078889 -0.203130   \n",
       "cons.conf.idx   0.129372 -0.008173 -0.013733 -0.091342 -0.050936   \n",
       "euribor3m       0.010767 -0.032897  0.135133  0.296899 -0.454494   \n",
       "nr.employed    -0.017725 -0.044703  0.144095  0.372605 -0.501333   \n",
       "\n",
       "                emp.var.rate  cons.price.idx  cons.conf.idx  euribor3m  \\\n",
       "age                -0.000371        0.000857       0.129372   0.010767   \n",
       "duration           -0.027968        0.005312      -0.008173  -0.032897   \n",
       "campaign            0.150754        0.127836      -0.013733   0.135133   \n",
       "pdays               0.271004        0.078889      -0.091342   0.296899   \n",
       "previous           -0.420489       -0.203130      -0.050936  -0.454494   \n",
       "emp.var.rate        1.000000        0.775334       0.196041   0.972245   \n",
       "cons.price.idx      0.775334        1.000000       0.058986   0.688230   \n",
       "cons.conf.idx       0.196041        0.058986       1.000000   0.277686   \n",
       "euribor3m           0.972245        0.688230       0.277686   1.000000   \n",
       "nr.employed         0.906970        0.522034       0.100513   0.945154   \n",
       "\n",
       "                nr.employed  \n",
       "age               -0.017725  \n",
       "duration          -0.044703  \n",
       "campaign           0.144095  \n",
       "pdays              0.372605  \n",
       "previous          -0.501333  \n",
       "emp.var.rate       0.906970  \n",
       "cons.price.idx     0.522034  \n",
       "cons.conf.idx      0.100513  \n",
       "euribor3m          0.945154  \n",
       "nr.employed        1.000000  "
      ]
     },
     "execution_count": 231,
     "metadata": {},
     "output_type": "execute_result"
    }
   ],
   "source": [
    "# to measure the strength of linear relationship between attributes\n",
    "data.corr()"
   ]
  },
  {
   "cell_type": "code",
   "execution_count": 232,
   "metadata": {
    "scrolled": true
   },
   "outputs": [
    {
     "data": {
      "text/plain": [
       "<matplotlib.axes._subplots.AxesSubplot at 0x21efb8cb470>"
      ]
     },
     "execution_count": 232,
     "metadata": {},
     "output_type": "execute_result"
    },
    {
     "data": {
      "image/png": "[encoded data removed]",
      "text/plain": [
       "<matplotlib.figure.Figure at 0x21efae31828>"
      ]
     },
     "metadata": {},
     "output_type": "display_data"
    }
   ],
   "source": [
    "sns.heatmap(data.corr())"
   ]
  },
  {
   "cell_type": "markdown",
   "metadata": {},
   "source": [
    "### Heat Map Analysis:\n",
    "Non-Linear Data (Dark Areas) <br>\n",
    "No two attributes completely correlated"
   ]
  },
  {
   "cell_type": "markdown",
   "metadata": {},
   "source": [
    "## Feature Selection\n",
    "Converting the given categorical data to a numerical form and selecting features"
   ]
  },
  {
   "cell_type": "code",
   "execution_count": 233,
   "metadata": {},
   "outputs": [
    {
     "data": {
      "text/plain": [
       "age                 int64\n",
       "job                object\n",
       "marital            object\n",
       "education          object\n",
       "default            object\n",
       "housing            object\n",
       "loan               object\n",
       "contact            object\n",
       "month              object\n",
       "day_of_week        object\n",
       "duration            int64\n",
       "campaign            int64\n",
       "pdays               int64\n",
       "previous            int64\n",
       "poutcome           object\n",
       "emp.var.rate      float64\n",
       "cons.price.idx    float64\n",
       "cons.conf.idx     float64\n",
       "euribor3m         float64\n",
       "nr.employed       float64\n",
       "y                  object\n",
       "dtype: object"
      ]
     },
     "execution_count": 233,
     "metadata": {},
     "output_type": "execute_result"
    }
   ],
   "source": [
    "data.dtypes"
   ]
  },
  {
   "cell_type": "code",
   "execution_count": 234,
   "metadata": {},
   "outputs": [
    {
     "data": {
      "text/html": [
       "<div>\n",
       "<style scoped>\n",
       "    .dataframe tbody tr th:only-of-type {\n",
       "        vertical-align: middle;\n",
       "    }\n",
       "\n",
       "    .dataframe tbody tr th {\n",
       "        vertical-align: top;\n",
       "    }\n",
       "\n",
       "    .dataframe thead th {\n",
       "        text-align: right;\n",
       "    }\n",
       "</style>\n",
       "<table border=\"1\" class=\"dataframe\">\n",
       "  <thead>\n",
       "    <tr style=\"text-align: right;\">\n",
       "      <th></th>\n",
       "      <th>age</th>\n",
       "      <th>campaign</th>\n",
       "      <th>cons.conf.idx</th>\n",
       "      <th>cons.price.idx</th>\n",
       "      <th>contact=cellular</th>\n",
       "      <th>contact=telephone</th>\n",
       "      <th>day_of_week=fri</th>\n",
       "      <th>day_of_week=mon</th>\n",
       "      <th>day_of_week=thu</th>\n",
       "      <th>day_of_week=tue</th>\n",
       "      <th>...</th>\n",
       "      <th>month=oct</th>\n",
       "      <th>month=sep</th>\n",
       "      <th>nr.employed</th>\n",
       "      <th>pdays</th>\n",
       "      <th>poutcome=failure</th>\n",
       "      <th>poutcome=nonexistent</th>\n",
       "      <th>poutcome=success</th>\n",
       "      <th>previous</th>\n",
       "      <th>y=no</th>\n",
       "      <th>y=yes</th>\n",
       "    </tr>\n",
       "  </thead>\n",
       "  <tbody>\n",
       "    <tr>\n",
       "      <th>0</th>\n",
       "      <td>56.0</td>\n",
       "      <td>1.0</td>\n",
       "      <td>-36.4</td>\n",
       "      <td>93.994</td>\n",
       "      <td>0.0</td>\n",
       "      <td>1.0</td>\n",
       "      <td>0.0</td>\n",
       "      <td>1.0</td>\n",
       "      <td>0.0</td>\n",
       "      <td>0.0</td>\n",
       "      <td>...</td>\n",
       "      <td>0.0</td>\n",
       "      <td>0.0</td>\n",
       "      <td>5191.0</td>\n",
       "      <td>999.0</td>\n",
       "      <td>0.0</td>\n",
       "      <td>1.0</td>\n",
       "      <td>0.0</td>\n",
       "      <td>0.0</td>\n",
       "      <td>1.0</td>\n",
       "      <td>0.0</td>\n",
       "    </tr>\n",
       "    <tr>\n",
       "      <th>1</th>\n",
       "      <td>57.0</td>\n",
       "      <td>1.0</td>\n",
       "      <td>-36.4</td>\n",
       "      <td>93.994</td>\n",
       "      <td>0.0</td>\n",
       "      <td>1.0</td>\n",
       "      <td>0.0</td>\n",
       "      <td>1.0</td>\n",
       "      <td>0.0</td>\n",
       "      <td>0.0</td>\n",
       "      <td>...</td>\n",
       "      <td>0.0</td>\n",
       "      <td>0.0</td>\n",
       "      <td>5191.0</td>\n",
       "      <td>999.0</td>\n",
       "      <td>0.0</td>\n",
       "      <td>1.0</td>\n",
       "      <td>0.0</td>\n",
       "      <td>0.0</td>\n",
       "      <td>1.0</td>\n",
       "      <td>0.0</td>\n",
       "    </tr>\n",
       "    <tr>\n",
       "      <th>2</th>\n",
       "      <td>37.0</td>\n",
       "      <td>1.0</td>\n",
       "      <td>-36.4</td>\n",
       "      <td>93.994</td>\n",
       "      <td>0.0</td>\n",
       "      <td>1.0</td>\n",
       "      <td>0.0</td>\n",
       "      <td>1.0</td>\n",
       "      <td>0.0</td>\n",
       "      <td>0.0</td>\n",
       "      <td>...</td>\n",
       "      <td>0.0</td>\n",
       "      <td>0.0</td>\n",
       "      <td>5191.0</td>\n",
       "      <td>999.0</td>\n",
       "      <td>0.0</td>\n",
       "      <td>1.0</td>\n",
       "      <td>0.0</td>\n",
       "      <td>0.0</td>\n",
       "      <td>1.0</td>\n",
       "      <td>0.0</td>\n",
       "    </tr>\n",
       "    <tr>\n",
       "      <th>3</th>\n",
       "      <td>40.0</td>\n",
       "      <td>1.0</td>\n",
       "      <td>-36.4</td>\n",
       "      <td>93.994</td>\n",
       "      <td>0.0</td>\n",
       "      <td>1.0</td>\n",
       "      <td>0.0</td>\n",
       "      <td>1.0</td>\n",
       "      <td>0.0</td>\n",
       "      <td>0.0</td>\n",
       "      <td>...</td>\n",
       "      <td>0.0</td>\n",
       "      <td>0.0</td>\n",
       "      <td>5191.0</td>\n",
       "      <td>999.0</td>\n",
       "      <td>0.0</td>\n",
       "      <td>1.0</td>\n",
       "      <td>0.0</td>\n",
       "      <td>0.0</td>\n",
       "      <td>1.0</td>\n",
       "      <td>0.0</td>\n",
       "    </tr>\n",
       "    <tr>\n",
       "      <th>4</th>\n",
       "      <td>56.0</td>\n",
       "      <td>1.0</td>\n",
       "      <td>-36.4</td>\n",
       "      <td>93.994</td>\n",
       "      <td>0.0</td>\n",
       "      <td>1.0</td>\n",
       "      <td>0.0</td>\n",
       "      <td>1.0</td>\n",
       "      <td>0.0</td>\n",
       "      <td>0.0</td>\n",
       "      <td>...</td>\n",
       "      <td>0.0</td>\n",
       "      <td>0.0</td>\n",
       "      <td>5191.0</td>\n",
       "      <td>999.0</td>\n",
       "      <td>0.0</td>\n",
       "      <td>1.0</td>\n",
       "      <td>0.0</td>\n",
       "      <td>0.0</td>\n",
       "      <td>1.0</td>\n",
       "      <td>0.0</td>\n",
       "    </tr>\n",
       "  </tbody>\n",
       "</table>\n",
       "<p>5 rows × 65 columns</p>\n",
       "</div>"
      ],
      "text/plain": [
       "    age  campaign  cons.conf.idx  cons.price.idx  contact=cellular  \\\n",
       "0  56.0       1.0          -36.4          93.994               0.0   \n",
       "1  57.0       1.0          -36.4          93.994               0.0   \n",
       "2  37.0       1.0          -36.4          93.994               0.0   \n",
       "3  40.0       1.0          -36.4          93.994               0.0   \n",
       "4  56.0       1.0          -36.4          93.994               0.0   \n",
       "\n",
       "   contact=telephone  day_of_week=fri  day_of_week=mon  day_of_week=thu  \\\n",
       "0                1.0              0.0              1.0              0.0   \n",
       "1                1.0              0.0              1.0              0.0   \n",
       "2                1.0              0.0              1.0              0.0   \n",
       "3                1.0              0.0              1.0              0.0   \n",
       "4                1.0              0.0              1.0              0.0   \n",
       "\n",
       "   day_of_week=tue  ...    month=oct  month=sep  nr.employed  pdays  \\\n",
       "0              0.0  ...          0.0        0.0       5191.0  999.0   \n",
       "1              0.0  ...          0.0        0.0       5191.0  999.0   \n",
       "2              0.0  ...          0.0        0.0       5191.0  999.0   \n",
       "3              0.0  ...          0.0        0.0       5191.0  999.0   \n",
       "4              0.0  ...          0.0        0.0       5191.0  999.0   \n",
       "\n",
       "   poutcome=failure  poutcome=nonexistent  poutcome=success  previous  y=no  \\\n",
       "0               0.0                   1.0               0.0       0.0   1.0   \n",
       "1               0.0                   1.0               0.0       0.0   1.0   \n",
       "2               0.0                   1.0               0.0       0.0   1.0   \n",
       "3               0.0                   1.0               0.0       0.0   1.0   \n",
       "4               0.0                   1.0               0.0       0.0   1.0   \n",
       "\n",
       "   y=yes  \n",
       "0    0.0  \n",
       "1    0.0  \n",
       "2    0.0  \n",
       "3    0.0  \n",
       "4    0.0  \n",
       "\n",
       "[5 rows x 65 columns]"
      ]
     },
     "execution_count": 234,
     "metadata": {},
     "output_type": "execute_result"
    }
   ],
   "source": [
    "vector = DictVectorizer()\n",
    "data_vec = vector.fit_transform(data.T.to_dict().values()).toarray()\n",
    "features = vector.feature_names_\n",
    "data_num= pd.DataFrame(data_vec,columns=features)\n",
    "data_num.head()"
   ]
  },
  {
   "cell_type": "code",
   "execution_count": 235,
   "metadata": {},
   "outputs": [
    {
     "data": {
      "text/plain": [
       "y=yes                            1.000000\n",
       "duration                         0.405274\n",
       "poutcome=success                 0.316269\n",
       "previous                         0.230181\n",
       "contact=cellular                 0.144773\n",
       "month=mar                        0.144014\n",
       "month=oct                        0.137366\n",
       "month=sep                        0.126067\n",
       "default=no                       0.099344\n",
       "job=student                      0.093955\n",
       "job=retired                      0.092221\n",
       "month=dec                        0.079303\n",
       "month=apr                        0.076136\n",
       "cons.conf.idx                    0.054878\n",
       "marital=single                   0.054133\n",
       "education=university.degree      0.050364\n",
       "poutcome=failure                 0.031799\n",
       "job=admin.                       0.031426\n",
       "age                              0.030399\n",
       "education=unknown                0.021430\n",
       "job=unemployed                   0.014752\n",
       "day_of_week=thu                  0.013888\n",
       "housing=yes                      0.011743\n",
       "day_of_week=tue                  0.008046\n",
       "education=illiterate             0.007246\n",
       "day_of_week=wed                  0.006302\n",
       "marital=unknown                  0.005211\n",
       "loan=no                          0.005123\n",
       "education=professional.course    0.001003\n",
       "job=unknown                     -0.000151\n",
       "                                   ...   \n",
       "job=self-employed               -0.004663\n",
       "job=technician                  -0.006149\n",
       "job=housemaid                   -0.006505\n",
       "day_of_week=fri                 -0.006996\n",
       "education=high.school           -0.007452\n",
       "month=aug                       -0.008813\n",
       "month=jun                       -0.009182\n",
       "marital=divorced                -0.010608\n",
       "education=basic.4y              -0.010798\n",
       "housing=no                      -0.011085\n",
       "month=nov                       -0.011796\n",
       "job=entrepreneur                -0.016644\n",
       "day_of_week=mon                 -0.021265\n",
       "education=basic.6y              -0.023517\n",
       "month=jul                       -0.032230\n",
       "job=services                    -0.032301\n",
       "marital=married                 -0.043398\n",
       "education=basic.9y              -0.045135\n",
       "campaign                        -0.066357\n",
       "job=blue-collar                 -0.074423\n",
       "default=unknown                 -0.099293\n",
       "month=may                       -0.108271\n",
       "cons.price.idx                  -0.136211\n",
       "contact=telephone               -0.144773\n",
       "poutcome=nonexistent            -0.193507\n",
       "emp.var.rate                    -0.298334\n",
       "euribor3m                       -0.307771\n",
       "pdays                           -0.324914\n",
       "nr.employed                     -0.354678\n",
       "y=no                            -1.000000\n",
       "Name: y=yes, Length: 65, dtype: float64"
      ]
     },
     "execution_count": 235,
     "metadata": {},
     "output_type": "execute_result"
    }
   ],
   "source": [
    "data_num.corr()['y=yes'].sort_values(ascending=False)"
   ]
  },
  {
   "cell_type": "markdown",
   "metadata": {},
   "source": [
    "#### Strongest relationship of 'y=yes' is with Duration"
   ]
  },
  {
   "cell_type": "code",
   "execution_count": 236,
   "metadata": {},
   "outputs": [
    {
     "name": "stdout",
     "output_type": "stream",
     "text": [
      "Features sorted by their score:\n",
      "duration \t 0.2831\n",
      "euribor3m \t 0.0923\n",
      "age \t 0.0793\n",
      "nr.employed \t 0.053\n",
      "campaign \t 0.0399\n",
      "pdays \t 0.0279\n",
      "cons.conf.idx \t 0.0265\n",
      "poutcome=success \t 0.0248\n",
      "cons.price.idx \t 0.0215\n",
      "emp.var.rate \t 0.0192\n",
      "housing=yes \t 0.0132\n",
      "housing=no \t 0.0131\n",
      "job=admin. \t 0.0121\n",
      "education=university.degree \t 0.0119\n",
      "marital=married \t 0.0116\n",
      "previous \t 0.0109\n",
      "day_of_week=thu \t 0.0108\n",
      "day_of_week=mon \t 0.0108\n",
      "education=high.school \t 0.0107\n",
      "marital=single \t 0.0105\n",
      "day_of_week=wed \t 0.0104\n",
      "day_of_week=tue \t 0.0104\n",
      "day_of_week=fri \t 0.01\n",
      "job=technician \t 0.0097\n",
      "loan=no \t 0.0094\n",
      "loan=yes \t 0.0091\n",
      "education=professional.course \t 0.0083\n",
      "job=blue-collar \t 0.008\n",
      "education=basic.9y \t 0.0077\n",
      "poutcome=failure \t 0.0074\n",
      "poutcome=nonexistent \t 0.0071\n",
      "marital=divorced \t 0.0071\n",
      "job=management \t 0.0064\n",
      "contact=telephone \t 0.0064\n",
      "contact=cellular \t 0.0063\n",
      "job=services \t 0.0062\n",
      "education=basic.4y \t 0.0061\n",
      "job=retired \t 0.0056\n",
      "default=no \t 0.0054\n",
      "default=unknown \t 0.0052\n",
      "month=oct \t 0.005\n",
      "education=unknown \t 0.005\n",
      "month=mar \t 0.0048\n",
      "job=student \t 0.0043\n",
      "education=basic.6y \t 0.0043\n",
      "month=may \t 0.0042\n",
      "job=self-employed \t 0.0041\n",
      "job=entrepreneur \t 0.0037\n",
      "job=unemployed \t 0.0036\n",
      "month=apr \t 0.0033\n",
      "job=housemaid \t 0.0031\n",
      "month=jun \t 0.0027\n",
      "month=jul \t 0.0025\n",
      "month=aug \t 0.0025\n",
      "month=sep \t 0.0024\n",
      "month=nov \t 0.0022\n",
      "housing=unknown \t 0.0019\n",
      "loan=unknown \t 0.0018\n",
      "job=unknown \t 0.0017\n",
      "month=dec \t 0.0007\n",
      "marital=unknown \t 0.0005\n",
      "education=illiterate \t 0.0002\n",
      "default=yes \t 0.0\n"
     ]
    }
   ],
   "source": [
    "X = data_num.drop(columns=['y=no','y=yes'])\n",
    "Y = data_num['y=yes']\n",
    "rf = RandomForestClassifier(n_estimators=250,random_state=0)\n",
    "rf.fit(X,Y)\n",
    "print (\"Features sorted by their score:\")\n",
    "features_score = sorted(zip(map(lambda x: round(x, 4), rf.feature_importances_), features),reverse=True)\n",
    "for i in features_score:\n",
    "    print (i[1],'\\t',i[0])\n",
    "                              "
   ]
  },
  {
   "cell_type": "markdown",
   "metadata": {},
   "source": [
    "#### Most influential features duration, age, campaign"
   ]
  },
  {
   "cell_type": "markdown",
   "metadata": {},
   "source": [
    "#### Working with the most influential feature Duration\n",
    "(last contact duration in seconds)"
   ]
  },
  {
   "cell_type": "code",
   "execution_count": 237,
   "metadata": {},
   "outputs": [
    {
     "name": "stdout",
     "output_type": "stream",
     "text": [
      "Max call duration for y=yes:  4199.0\n",
      "Min call duration for y=yes:  37.0\n",
      "Average duration of last call in seconds when y=yes:  553.191163793\n"
     ]
    },
    {
     "data": {
      "text/plain": [
       "(array([ 279.,  813.,  729.,  517.,  441.,  410.,  354.,  258.,  225.,\n",
       "         165.,  117.,   83.,   72.,   46.,   34.,   26.,   11.,   14.,\n",
       "           8.,   12.,    4.,    3.,    2.,    5.,    1.,    3.,    1.,\n",
       "           1.,    0.,    2.,    1.,    0.,    0.,    0.,    2.,    0.,\n",
       "           0.,    0.,    0.,    1.]),\n",
       " array([   37.  ,   141.05,   245.1 ,   349.15,   453.2 ,   557.25,\n",
       "          661.3 ,   765.35,   869.4 ,   973.45,  1077.5 ,  1181.55,\n",
       "         1285.6 ,  1389.65,  1493.7 ,  1597.75,  1701.8 ,  1805.85,\n",
       "         1909.9 ,  2013.95,  2118.  ,  2222.05,  2326.1 ,  2430.15,\n",
       "         2534.2 ,  2638.25,  2742.3 ,  2846.35,  2950.4 ,  3054.45,\n",
       "         3158.5 ,  3262.55,  3366.6 ,  3470.65,  3574.7 ,  3678.75,\n",
       "         3782.8 ,  3886.85,  3990.9 ,  4094.95,  4199.  ]),\n",
       " <a list of 40 Patch objects>)"
      ]
     },
     "execution_count": 237,
     "metadata": {},
     "output_type": "execute_result"
    },
    {
     "data": {
      "image/png": "[encoded data removed]",
      "text/plain": [
       "<matplotlib.figure.Figure at 0x21e803b3d30>"
      ]
     },
     "metadata": {},
     "output_type": "display_data"
    }
   ],
   "source": [
    "# duration for y=yes\n",
    "print('Max call duration for y=yes: ',data_num[data_num['y=yes']==1.0]['duration'].max())\n",
    "print('Min call duration for y=yes: ',data_num[data_num['y=yes']==1.0]['duration'].min())\n",
    "avg_dur_y = sum(data_num[data_num['y=yes']==1.0]['duration'])/ data_num['y=yes'].sum()\n",
    "print('Average duration of last call in seconds when y=yes: ',avg_dur_y)\n",
    "plt.hist(data_num[data_num['y=yes']==1.0]['duration'],bins=40)"
   ]
  },
  {
   "cell_type": "code",
   "execution_count": 238,
   "metadata": {},
   "outputs": [
    {
     "name": "stdout",
     "output_type": "stream",
     "text": [
      "Max call duration for y=no:  4918.0\n",
      "Min call duration for y=no:  0.0\n",
      "Average duration of last call in seconds when y=no :  220.844806829\n"
     ]
    },
    {
     "data": {
      "text/plain": [
       "(array([  1.30410000e+04,   1.24240000e+04,   5.57400000e+03,\n",
       "          2.56800000e+03,   1.28400000e+03,   6.67000000e+02,\n",
       "          3.97000000e+02,   1.81000000e+02,   1.35000000e+02,\n",
       "          1.03000000e+02,   5.10000000e+01,   3.90000000e+01,\n",
       "          2.80000000e+01,   9.00000000e+00,   1.20000000e+01,\n",
       "          1.10000000e+01,   5.00000000e+00,   3.00000000e+00,\n",
       "          3.00000000e+00,   1.00000000e+00,   1.00000000e+00,\n",
       "          1.00000000e+00,   0.00000000e+00,   1.00000000e+00,\n",
       "          0.00000000e+00,   1.00000000e+00,   2.00000000e+00,\n",
       "          3.00000000e+00,   1.00000000e+00,   0.00000000e+00,\n",
       "          1.00000000e+00,   0.00000000e+00,   0.00000000e+00,\n",
       "          0.00000000e+00,   0.00000000e+00,   0.00000000e+00,\n",
       "          0.00000000e+00,   0.00000000e+00,   0.00000000e+00,\n",
       "          1.00000000e+00]),\n",
       " array([    0.  ,   122.95,   245.9 ,   368.85,   491.8 ,   614.75,\n",
       "          737.7 ,   860.65,   983.6 ,  1106.55,  1229.5 ,  1352.45,\n",
       "         1475.4 ,  1598.35,  1721.3 ,  1844.25,  1967.2 ,  2090.15,\n",
       "         2213.1 ,  2336.05,  2459.  ,  2581.95,  2704.9 ,  2827.85,\n",
       "         2950.8 ,  3073.75,  3196.7 ,  3319.65,  3442.6 ,  3565.55,\n",
       "         3688.5 ,  3811.45,  3934.4 ,  4057.35,  4180.3 ,  4303.25,\n",
       "         4426.2 ,  4549.15,  4672.1 ,  4795.05,  4918.  ]),\n",
       " <a list of 40 Patch objects>)"
      ]
     },
     "execution_count": 238,
     "metadata": {},
     "output_type": "execute_result"
    },
    {
     "data": {
      "image/png": "[encoded data removed]",
      "text/plain": [
       "<matplotlib.figure.Figure at 0x21e8039acc0>"
      ]
     },
     "metadata": {},
     "output_type": "display_data"
    }
   ],
   "source": [
    "#duration for y=no\n",
    "print('Max call duration for y=no: ',data_num[data_num['y=no']==1.0]['duration'].max())\n",
    "print('Min call duration for y=no: ',data_num[data_num['y=no']==1.0]['duration'].min())\n",
    "avg_dur_n = sum(data_num[data_num['y=no']==1.0]['duration'])/ data_num['y=no'].sum()\n",
    "print('Average duration of last call in seconds when y=no : ', avg_dur_n)\n",
    "plt.hist(data_num[data_num['y=no']==1.0]['duration'],bins=40)"
   ]
  },
  {
   "cell_type": "markdown",
   "metadata": {},
   "source": [
    "##### For duration > 500, more chances for y=yes\n",
    "##### Optimal duration period: 100-1500 seconds"
   ]
  },
  {
   "cell_type": "markdown",
   "metadata": {},
   "source": [
    "#### Working with the feature Age\n",
    "3 age groups are considered ( less than 30 yrs, >=30 and <=45, greater than 45 yrs)"
   ]
  },
  {
   "cell_type": "code",
   "execution_count": 239,
   "metadata": {},
   "outputs": [
    {
     "name": "stdout",
     "output_type": "stream",
     "text": [
      "for age less than 30 years\n",
      "Call No. \t Efficiency\n",
      "1  \t\t  0.08148148148148149\n",
      "2  \t\t  0.07615167659041053\n",
      "3  \t\t  0.06682161533991865\n",
      "4  \t\t  0.04838709677419355\n",
      "5  \t\t  0.0432\n",
      "6  \t\t  0.02358490566037736\n",
      "7  \t\t  0.033003300330033\n",
      "8  \t\t  0.004672897196261682\n",
      "9  \t\t  0.01910828025477707\n",
      "10  \t\t  0.008130081300813009\n",
      "11  \t\t  0.0\n",
      "12  \t\t  0.0\n",
      "13  \t\t  0.01639344262295082\n",
      "14  \t\t  0.0\n",
      "15  \t\t  0.022222222222222223\n"
     ]
    }
   ],
   "source": [
    "# for age less than 30 years\n",
    "print('for age less than 30 years')\n",
    "print (\"Call No. \\t Efficiency\")\n",
    "for i in range(1,16):\n",
    "    eff = float(data_num[(data_num['age']<30) & (data_num['campaign']==i)&(data_num['y=yes']==1)].shape[0]) / (float(data_num[(data_num['age']<30)&(data_num['campaign']>=i)].shape[0])+1)\n",
    "    print (i,\" \\t\\t \",eff)"
   ]
  },
  {
   "cell_type": "markdown",
   "metadata": {},
   "source": [
    "##### No. of calls to consider = 7"
   ]
  },
  {
   "cell_type": "code",
   "execution_count": 240,
   "metadata": {},
   "outputs": [
    {
     "name": "stdout",
     "output_type": "stream",
     "text": [
      "for age between 30 to 45 years\n",
      "Call No. \t Efficiency\n",
      "1  \t\t  0.0475326100721854\n",
      "2  \t\t  0.04240100287589411\n",
      "3  \t\t  0.03658210947930574\n",
      "4  \t\t  0.029485144023588115\n",
      "5  \t\t  0.02126176368072499\n",
      "6  \t\t  0.021660649819494584\n",
      "7  \t\t  0.008\n",
      "8  \t\t  0.0087890625\n",
      "9  \t\t  0.0076045627376425855\n",
      "10  \t\t  0.0110062893081761\n",
      "11  \t\t  0.019801980198019802\n",
      "12  \t\t  0.007633587786259542\n",
      "13  \t\t  0.006289308176100629\n",
      "14  \t\t  0.003816793893129771\n",
      "15  \t\t  0.0\n"
     ]
    }
   ],
   "source": [
    "# for age between 30 to 45 years\n",
    "print('for age between 30 to 45 years')\n",
    "print (\"Call No. \\t Efficiency\")\n",
    "for i in range(1,16):\n",
    "    eff = float(data_num[(data_num['age']>=30)&(data_num['age']<=45)&(data_num['campaign']==i)&(data_num['y=yes']==1)].shape[0]) / (float(data_num[(data_num['age']>=30)&(data_num['age']<=45)&(data_num['campaign']>=i)].shape[0])+1)\n",
    "    print (i,\" \\t\\t \",eff)"
   ]
  },
  {
   "cell_type": "markdown",
   "metadata": {},
   "source": [
    "##### No. of calls to consider = 6"
   ]
  },
  {
   "cell_type": "code",
   "execution_count": 241,
   "metadata": {},
   "outputs": [
    {
     "name": "stdout",
     "output_type": "stream",
     "text": [
      "for age greater than 45 years\n",
      "Call No. \t Efficiency\n",
      "1  \t\t  0.06017579445571332\n",
      "2  \t\t  0.05781962630572311\n",
      "3  \t\t  0.04909766454352442\n",
      "4  \t\t  0.03173893607510058\n",
      "5  \t\t  0.021433355659745478\n",
      "6  \t\t  0.0224390243902439\n",
      "7  \t\t  0.023255813953488372\n",
      "8  \t\t  0.012915129151291513\n",
      "9  \t\t  0.018433179723502304\n",
      "10  \t\t  0.011834319526627219\n",
      "11  \t\t  0.007352941176470588\n",
      "12  \t\t  0.0\n",
      "13  \t\t  0.005235602094240838\n",
      "14  \t\t  0.0\n",
      "15  \t\t  0.006993006993006993\n"
     ]
    }
   ],
   "source": [
    "# for age greater than 45 years\n",
    "print('for age greater than 45 years')\n",
    "print (\"Call No. \\t Efficiency\")\n",
    "for i in range(1,16):\n",
    "    eff = float(data_num[(data_num['age']>45) & (data_num['campaign']==i)&(data_num['y=yes']==1)].shape[0]) / (float(data_num[(data_num['age']>45)&(data_num['campaign']>=i)].shape[0])+1)\n",
    "    print (i,\" \\t\\t \",eff)"
   ]
  },
  {
   "cell_type": "markdown",
   "metadata": {},
   "source": [
    "##### No. of calls to consider = 7"
   ]
  },
  {
   "cell_type": "markdown",
   "metadata": {},
   "source": [
    "##### For all age groups efficient number of contacts to be made is around 6-7"
   ]
  },
  {
   "cell_type": "markdown",
   "metadata": {},
   "source": [
    "#### Working with the feature Campaign\n",
    "(number of contacts performed during this campaign)"
   ]
  },
  {
   "cell_type": "code",
   "execution_count": 242,
   "metadata": {},
   "outputs": [
    {
     "name": "stdout",
     "output_type": "stream",
     "text": [
      "All over average contacts:  2.56759250267\n",
      "Ratio of y=yes to total contacts made:  0.043875408968\n",
      "Ratio of y=no  to total contacts made:  0.34559449288\n",
      "Call No. \t Efficiency\n",
      "1  \t\t  0.05584150723511702\n",
      "2  \t\t  0.05143124097511254\n",
      "3  \t\t  0.04423551171393342\n",
      "4  \t\t  0.03261296660117878\n",
      "5  \t\t  0.024077046548956663\n",
      "6  \t\t  0.022156573116691284\n",
      "7  \t\t  0.015793848711554447\n",
      "8  \t\t  0.009566685424873381\n",
      "9  \t\t  0.012345679012345678\n",
      "10  \t\t  0.010968921389396709\n",
      "11  \t\t  0.01380897583429229\n",
      "12  \t\t  0.004335260115606936\n",
      "13  \t\t  0.007054673721340388\n",
      "14  \t\t  0.002105263157894737\n",
      "15  \t\t  0.0049261083743842365\n"
     ]
    }
   ],
   "source": [
    "print('All over average contacts: ',data['campaign'].sum()/data['campaign'].count())\n",
    "print('Ratio of y=yes to total contacts made: ',data_num['y=yes'].sum()/data['campaign'].sum())\n",
    "print('Ratio of y=no  to total contacts made: ',data_num['y=no'].sum()/data['campaign'].sum())\n",
    "\n",
    "print (\"Call No. \\t Efficiency\")\n",
    "for i in range(1,16):\n",
    "    eff = sum(data_num.loc[data_num['campaign']==i]['y=yes']) / float(data_num.loc[data_num['campaign'] >= i].shape[0])\n",
    "    print (i,\" \\t\\t \",eff)"
   ]
  },
  {
   "cell_type": "markdown",
   "metadata": {},
   "source": [
    "##### No. of calls to consider= 6"
   ]
  },
  {
   "cell_type": "markdown",
   "metadata": {},
   "source": [
    "###### For high efficiency calls to be made = 6 (condidering  the feature campaign and age groups)"
   ]
  },
  {
   "cell_type": "markdown",
   "metadata": {},
   "source": [
    "### Market Cost Reduction"
   ]
  },
  {
   "cell_type": "code",
   "execution_count": 243,
   "metadata": {},
   "outputs": [
    {
     "data": {
      "text/plain": [
       "11.384912154622993"
      ]
     },
     "execution_count": 243,
     "metadata": {},
     "output_type": "execute_result"
    }
   ],
   "source": [
    "# Reduction in marketing cost because of extra calls\n",
    "total_contacts = data_num['campaign'].sum()\n",
    "extra_contacts = sum(data_num[data_num['campaign']>6]['campaign']) - 6*df[df['campaign']>6].shape[0] \n",
    "reduction_1 = 100*extra_contacts/total_contacts\n",
    "reduction_1"
   ]
  },
  {
   "cell_type": "code",
   "execution_count": 244,
   "metadata": {},
   "outputs": [
    {
     "data": {
      "text/plain": [
       "0.31815404103854367"
      ]
     },
     "execution_count": 244,
     "metadata": {},
     "output_type": "execute_result"
    }
   ],
   "source": [
    "# Reduction in marketing cost because of extra duration\n",
    "total_duration = data_num['duration'].sum()\n",
    "wasted_duration = sum(data_num[data_num['duration']<100]['campaign'])\n",
    "extra_duration = sum(data_num[data_num['duration']>1500]['campaign']) - 1500*df[df['campaign']>1500].shape[0]\n",
    "reduction_2 = 100*(extra_duration+wasted_duration)/total_duration\n",
    "reduction_2"
   ]
  },
  {
   "cell_type": "code",
   "execution_count": 245,
   "metadata": {},
   "outputs": [
    {
     "data": {
      "text/plain": [
       "11.703066195661536"
      ]
     },
     "execution_count": 245,
     "metadata": {},
     "output_type": "execute_result"
    }
   ],
   "source": [
    "total_reduction= reduction_1 + reduction_2\n",
    "total_reduction"
   ]
  },
  {
   "cell_type": "markdown",
   "metadata": {},
   "source": [
    "### Prospects Maintained"
   ]
  },
  {
   "cell_type": "code",
   "execution_count": 246,
   "metadata": {},
   "outputs": [
    {
     "data": {
      "text/plain": [
       "94.87068965517241"
      ]
     },
     "execution_count": 246,
     "metadata": {},
     "output_type": "execute_result"
    }
   ],
   "source": [
    "total_prospects = float(df[df['y=yes']==1].shape[0])\n",
    "preferred_prospects = float(data_num[(data_num['campaign']<=6)&(data_num['y=yes']==1)&(data_num['duration']<1500)].shape[0])\n",
    "prospects_percentage = 100*preferred_prospects/total_prospects\n",
    "prospects_percentage"
   ]
  },
  {
   "cell_type": "markdown",
   "metadata": {},
   "source": [
    "### Market cost reduction: 11.7%\n",
    "### Prospects Maintained: 94.87%"
   ]
  }
 ],
 "metadata": {
  "kernelspec": {
   "display_name": "Python 3",
   "language": "python",
   "name": "python3"
  },
  "language_info": {
   "codemirror_mode": {
    "name": "ipython",
    "version": 3
   },
   "file_extension": ".py",
   "mimetype": "text/x-python",
   "name": "python",
   "nbconvert_exporter": "python",
   "pygments_lexer": "ipython3",
   "version": "3.6.4"
  }
 },
 "nbformat": 4,
 "nbformat_minor": 2
}
